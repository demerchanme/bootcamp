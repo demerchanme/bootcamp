{
 "cells": [
  {
   "cell_type": "markdown",
   "metadata": {},
   "source": [
    "# **Bienvenidos al Bootcamp Data Science & Analítica de Datos I - TITANIC**\n",
    "    \n",
    "- [Capítulo 1: Variables y Análisis](#analisis)\n",
    "- [Capítulo 2: Visualizaciones Titanic](#visualizaciones)\n",
    "- [Capítulo 3: Algoritmos de Clasificación Titanic](#clasificacion)"
   ]
  },
  {
   "cell_type": "markdown",
   "metadata": {},
   "source": [
    "<div style=\"font-family: 'Arial', sans-serif; font-size: 16px; line-height: 1.6; color: #333;\">\n",
    "\n",
    "\n",
    "**¿Cómo podría haber ayudado la IA?**\n"
   ]
  },
  {
   "cell_type": "markdown",
   "metadata": {},
   "source": [
    "<figure>\n",
    "<center>\n",
    "<img src='https://upload.wikimedia.org/wikipedia/commons/thumb/f/fd/RMS_Titanic_3.jpg/1920px-RMS_Titanic_3.jpg' width=\"650\" height=\"250\" />\n",
    "<figcaption></figcaption></center>\n",
    "</figure>"
   ]
  },
  {
   "cell_type": "code",
   "execution_count": 1,
   "metadata": {},
   "outputs": [],
   "source": [
    "# Importamos librerias para procesamiero de datos y gráficas\n",
    "import os\n",
    "import pandas as pd\n",
    "import numpy as np\n",
    "import seaborn as sns\n",
    "import warnings\n",
    "import matplotlib.pyplot as plt\n",
    "import squarify\n",
    "%matplotlib inline\n",
    "\n",
    "# Ignore warnings\n",
    "warnings.filterwarnings('ignore')\n",
    "warnings.simplefilter(action=\"ignore\", category=FutureWarning)\n",
    "plt.rcParams[\"figure.figsize\"] = [10, 5]\n",
    "\n",
    "# Importamos librerias para modelos de clasificación \n",
    "from funciones_bootcamp import compute_metrics, plot_confusion_matrix_and_reports\n",
    "from sklearn.model_selection import train_test_split\n",
    "from sklearn.linear_model import LogisticRegression\n",
    "from sklearn.tree import DecisionTreeClassifier, plot_tree\n",
    "\n",
    "pd.set_option('display.max_rows', None)\n",
    "pd.set_option('display.max_columns', None)"
   ]
  },
  {
   "cell_type": "markdown",
   "metadata": {},
   "source": [
    "<a id=\"analisis\"></a>\n",
    "\n",
    "# **Capítulo 1: Variables y Análisis** "
   ]
  },
  {
   "cell_type": "markdown",
   "metadata": {},
   "source": [
    "## **1.1 Dataset, variables y tipos de variables**"
   ]
  },
  {
   "cell_type": "markdown",
   "metadata": {},
   "source": [
    "### Carga del Dataset\n",
    "\n",
    "Con el siguiente comando podemos extraer información almacenada en archivos csv."
   ]
  },
  {
   "cell_type": "code",
   "execution_count": 2,
   "metadata": {},
   "outputs": [],
   "source": [
    "# Se define la ruta del archivo .csv del cuál se quiere extraer información\n",
    "ruta = '../Data/Inputs/Titanic-Dataset.csv'\n",
    "\n",
    "# Se usa la función read_csv para cargar datos del archivo en la ruta especificada\n",
    "full_data = pd.read_csv(ruta)"
   ]
  },
  {
   "cell_type": "markdown",
   "metadata": {},
   "source": [
    "Con el siguiente comando podemos obtener las dimensiones de nuestro dataset"
   ]
  },
  {
   "cell_type": "code",
   "execution_count": null,
   "metadata": {},
   "outputs": [],
   "source": [
    "# Se usa la función shape para extraer el número de filas y columnas\n",
    "full_data.shape"
   ]
  },
  {
   "cell_type": "markdown",
   "metadata": {},
   "source": [
    "El siguiente comando nos permitirá tener un acercamiento al dataset, observando los 10 primeros registros"
   ]
  },
  {
   "cell_type": "code",
   "execution_count": null,
   "metadata": {},
   "outputs": [],
   "source": [
    "# Se usa la función head para desplegar 10 registros del dataset\n",
    "full_data.head(10)"
   ]
  },
  {
   "cell_type": "markdown",
   "metadata": {},
   "source": [
    "### Tipos de Variables"
   ]
  },
  {
   "cell_type": "markdown",
   "metadata": {},
   "source": [
    "Vamos a extraer nuestros datos del *Titanic* desde el archivo .csv, crear un DataFrame de pandas y revisar los indicadores disponibles. Este conjunto de datos contiene información de 891 pasajeros con 12 atributos diferentes:\n",
    "\n",
    "Variable                  | Descripción                                                                      | Tipo\n",
    "--------------------------|----------------------------------------------------------------------------------|------------------------------\n",
    "**Sobrevivió (Survived)** | Resultado de la supervivencia (0 = No; 1 = Sí)                                   | *Variable binaria*\n",
    "**Clase (Pclass)**        | Clase socioeconómica (1 = Clase alta; 2 = Clase media; 3 = Clase baja)           | ________________\n",
    "**Nombre (Name)**         | Nombre del pasajero                                                              | *Variable de texto*\n",
    "**Sexo (Sex)**            | Sexo del pasajero                                                                | *Variable categórica nominal*\n",
    "**Edad (Age)**            | Edad del pasajero                                                                | *Variable numérica discreta*\n",
    "**SibSp**                 | Número de hermanos y cónyuges del pasajero a bordo                               | *Variable numérica discreta*\n",
    "**Parch**                 | Número de padres e hijos del pasajero a bordo                                    | *Variable numérica discreta*\n",
    "**Ticket**                | Número de boleto del pasajero                                                    | *Variable de texto*\n",
    "**Tarifa (Fare)**         | Tarifa pagada por el pasajero                                                    | ________________\n",
    "**Cabina (Cabin)**        | Número de cabina del pasajero                                                    | *Variable de texto*\n",
    "**Embarcado (Embarked)**  | Puerto de embarque del pasajero (C = Cherburgo; Q = Queenstown; S = Southampton) | ________________\n",
    " \n",
    "\n",
    "**Ejercicio #1**\n",
    "\n",
    "Completa el tipo de variable de **Embarcado**, **Tarifa** y **Clase**"
   ]
  },
  {
   "cell_type": "markdown",
   "metadata": {},
   "source": [
    "Ahora, podemos explorar los atributos y formatos de nuestros datos en el abt. Esto es independiente del tipo de variable que refleje cada uno de los datos.\n",
    "\n",
    "Acá podemos encontrar diversos tipos de dato. Para el ejercicio, tenemos los siguientes:\n",
    "\n",
    "- int64: refleja una variable con valores numéricos enteros.\n",
    "- float64: refleja una variable con valores numéricos decimales.\n",
    "- object: refleja una variable con una cadena de texto.\n",
    "\n",
    "Para revisar estos tipos de dato, podemos hacer uso del método info() sobre nuestro abt."
   ]
  },
  {
   "cell_type": "code",
   "execution_count": null,
   "metadata": {},
   "outputs": [],
   "source": [
    "# Se usa la función dtypes para obtener los tipos de variables presentes en el dataset\n",
    "full_data.dtypes"
   ]
  },
  {
   "cell_type": "markdown",
   "metadata": {},
   "source": [
    "## **1.2 Análisis Univariado**"
   ]
  },
  {
   "cell_type": "markdown",
   "metadata": {},
   "source": [
    "### Variables Cualitativas\n",
    "Podemos obtener una representación de una tabla de frecuencias de las variables categóricas de la base. Por ejemplo, para la variable que refleja el puerto de embarcación:"
   ]
  },
  {
   "cell_type": "code",
   "execution_count": null,
   "metadata": {},
   "outputs": [],
   "source": [
    "# Se usa la función value_counts sobre la columna 'Embarked' para obtener los valores y su frecuencia\n",
    "full_data['Embarked'].value_counts()"
   ]
  },
  {
   "cell_type": "markdown",
   "metadata": {},
   "source": [
    "También podemos obtener esto de forma relativa, es decir, los porcentajes de cada puerto para el total de la base."
   ]
  },
  {
   "cell_type": "code",
   "execution_count": null,
   "metadata": {},
   "outputs": [],
   "source": [
    "# Se define el objeto 'procentajes' como True para usarlo posteriormente\n",
    "porcentajes = True\n",
    "\n",
    "# Se usa la función vaue_counts nuevamente asignando porcentajes al parámetro normalize para obtener valores relativos\n",
    "full_data['Embarked'].value_counts(normalize = porcentajes).round(4)*100"
   ]
  },
  {
   "cell_type": "markdown",
   "metadata": {},
   "source": [
    "### Variables Cuantitativas"
   ]
  },
  {
   "cell_type": "code",
   "execution_count": null,
   "metadata": {},
   "outputs": [],
   "source": [
    "# Se usa la función mean sobre la variable 'Parch' para obtener la media\n",
    "full_data.Parch.mean()"
   ]
  },
  {
   "cell_type": "code",
   "execution_count": null,
   "metadata": {},
   "outputs": [],
   "source": [
    "# Se usa la función median sobre la variable 'Age' para obtener la mediana\n",
    "full_data['Age'].median()"
   ]
  },
  {
   "cell_type": "markdown",
   "metadata": {},
   "source": [
    "También se pueden calcular otras estadísticas descriptivas, como la desviación estándar, el mínimo, máximo.\n",
    "\n",
    "- Desviación estándar: ```full_data.Age.std()```\n",
    "- Mínimo: ```full_data.Age.min()```\n",
    "- Máximo: ```full_data.Age.max()```"
   ]
  },
  {
   "cell_type": "markdown",
   "metadata": {},
   "source": [
    "#### **Ejercicio 2**"
   ]
  },
  {
   "cell_type": "code",
   "execution_count": 10,
   "metadata": {},
   "outputs": [],
   "source": [
    "# Tu código va aquí\n"
   ]
  },
  {
   "cell_type": "code",
   "execution_count": 11,
   "metadata": {},
   "outputs": [],
   "source": [
    "# Tu código va aquí\n"
   ]
  },
  {
   "cell_type": "code",
   "execution_count": 12,
   "metadata": {},
   "outputs": [],
   "source": [
    "# Tu código va aquí\n"
   ]
  },
  {
   "cell_type": "markdown",
   "metadata": {},
   "source": [
    "## **1.3 Análisis Bivariado**"
   ]
  },
  {
   "cell_type": "markdown",
   "metadata": {},
   "source": [
    "### Variables Cualitativas"
   ]
  },
  {
   "cell_type": "markdown",
   "metadata": {},
   "source": [
    "Por medio del concepto de tabla cruzado que vimos hace unos momentos, se pude observar el comportamiento de las variables categóricas `Sex` y `PClass`"
   ]
  },
  {
   "cell_type": "code",
   "execution_count": null,
   "metadata": {},
   "outputs": [],
   "source": [
    "# Se define el objeto filas con la columna 'Pclass'\n",
    "filas_tabla_cruzada = full_data['Pclass']\n",
    "\n",
    "# Se define el objeto columnas con la columna 'Sex'\n",
    "columnas_tabla_cruzada = full_data['Sex']\n",
    "\n",
    "# Se usa la función crosstab definiendo las variables por medio de los objetos creadas anteriormente \n",
    "pd.crosstab(filas_tabla_cruzada, columnas_tabla_cruzada)"
   ]
  },
  {
   "cell_type": "markdown",
   "metadata": {},
   "source": [
    "También se puede obtener con valores relativos o porcentajes"
   ]
  },
  {
   "cell_type": "code",
   "execution_count": null,
   "metadata": {},
   "outputs": [],
   "source": [
    "# Se define el objeto procentajes como True para usarlo posteriormente en la función crosstab\n",
    "porcentajes = True\n",
    "\n",
    "# Se usa la función crosstab definiendo las variables por medio de los objetos creadas anteriormente y definiendo el parámetro normalize\n",
    "# con el objeto procentajes\n",
    "pd.crosstab(filas_tabla_cruzada, columnas_tabla_cruzada, normalize = porcentajes).round(4)*100"
   ]
  },
  {
   "cell_type": "markdown",
   "metadata": {},
   "source": [
    "### Variables Cuantitativas"
   ]
  },
  {
   "cell_type": "markdown",
   "metadata": {},
   "source": [
    "Se puede hacer una revisión de la correlación entre dos variables"
   ]
  },
  {
   "cell_type": "code",
   "execution_count": null,
   "metadata": {},
   "outputs": [],
   "source": [
    "# Se define la variable 'par' como la columna 'Fare' para ser usada como referencia en la comparación de correlación\n",
    "par = full_data['Fare']\n",
    "\n",
    "# Se usa la función corr para calcular la correlación entre la columna 'Age' y la columna Fare (objeto 'par')\n",
    "full_data.Age.corr(par)"
   ]
  },
  {
   "cell_type": "markdown",
   "metadata": {},
   "source": [
    "## **1.4 Tratamiento de variables**"
   ]
  },
  {
   "cell_type": "markdown",
   "metadata": {},
   "source": [
    "Veamos nuestro dataset antes de hacer cualquier tratamiento."
   ]
  },
  {
   "cell_type": "code",
   "execution_count": null,
   "metadata": {},
   "outputs": [],
   "source": [
    "full_data.head()"
   ]
  },
  {
   "cell_type": "markdown",
   "metadata": {},
   "source": [
    "### Selección de variables"
   ]
  },
  {
   "cell_type": "markdown",
   "metadata": {},
   "source": [
    "Para el propósito del ejercicio, conocemos que existen algunas variables que no nos aportan mucha información más allá de poder identificar al pasajero. Estas variables son:\n",
    "\n",
    "- Nombre del pasajero.\n",
    "- Id del pasajero.\n",
    "- Número de ticket del pasajero.\n",
    "- Cabina del pasajero.\n",
    "\n",
    "Estas variables se pueden borrar del dataset.\n"
   ]
  },
  {
   "cell_type": "code",
   "execution_count": 17,
   "metadata": {},
   "outputs": [],
   "source": [
    "# Se definen las columnas a eliminar en la lista 'columnas_eliminar'\n",
    "columnas_eliminar = ['Name', 'PassengerId', 'Ticket', 'Cabin']\n",
    "\n",
    "# Se eliminan las columnas especificadas usando la función drop\n",
    "full_data = full_data.drop(columnas_eliminar, axis=1)"
   ]
  },
  {
   "cell_type": "markdown",
   "metadata": {},
   "source": [
    "Si se quiere corroborar la eliminación, se puede volver a mostrar los 10 primeros registros del dataset"
   ]
  },
  {
   "cell_type": "code",
   "execution_count": null,
   "metadata": {},
   "outputs": [],
   "source": [
    "# Se utiliza la función head para mostrar los primeros registros del dataset y verificar la eliminación de columnas\n",
    "full_data.head()"
   ]
  },
  {
   "cell_type": "markdown",
   "metadata": {},
   "source": [
    "### Datos Faltantes"
   ]
  },
  {
   "cell_type": "markdown",
   "metadata": {},
   "source": [
    "Podemos obtener la cantidad de datos faltantes de cada uno de nuestros campos con el método isnull().sum() sobre nuestro dataset."
   ]
  },
  {
   "cell_type": "code",
   "execution_count": null,
   "metadata": {},
   "outputs": [],
   "source": [
    "# Se utiliza la función isnull junto con sum para contar el número de valores nulos en cada columna del dataset\n",
    "full_data.isnull().sum()"
   ]
  },
  {
   "cell_type": "markdown",
   "metadata": {},
   "source": [
    "### Imputación - Variable `Embarked`\n",
    "\n",
    "Vamos a imputar la variable Embarked, que tiene solo 2 valores faltantes."
   ]
  },
  {
   "cell_type": "code",
   "execution_count": null,
   "metadata": {},
   "outputs": [],
   "source": [
    "# Filtra del dataset para dejar los registros que tiene valores faltantes en la variable Embarked \n",
    "dataset_nulos_embarked = full_data[full_data['Embarked'].isnull()]\n",
    "\n",
    "# Guardamos los índices de los registros con faltantes en Embarked\n",
    "indices_nulos_edad = full_data[full_data['Embarked'].isnull()].index.tolist()\n",
    "\n",
    "# Imprime el dataset filtrado por valores faltantes en Embarked\n",
    "dataset_nulos_embarked.head()"
   ]
  },
  {
   "cell_type": "markdown",
   "metadata": {},
   "source": [
    "Realizaremos imputación por clase del tiquete (Pclass), y se imputará con el valor más frecuente dependiendo de la categoría."
   ]
  },
  {
   "cell_type": "code",
   "execution_count": 21,
   "metadata": {},
   "outputs": [],
   "source": [
    "# Se define una lista con la variable 'Pclass' que se usará para agrupar\n",
    "variable_agrupacion = ['Pclass']\n",
    "\n",
    "# Se llenan los valores nulos de la columna 'Embarked' con el valor más frecuente (moda), agrupando por 'Pclass'\n",
    "full_data['Embarked'] = full_data.groupby(variable_agrupacion)['Embarked'].transform(lambda x: x.fillna(x.mode()[0]))\n"
   ]
  },
  {
   "cell_type": "markdown",
   "metadata": {},
   "source": [
    "Validamos que la información se encuentre completa ahora que se realizó la imputación."
   ]
  },
  {
   "cell_type": "code",
   "execution_count": null,
   "metadata": {},
   "outputs": [],
   "source": [
    "# Imprime los registros con los índices guardados anteriormente\n",
    "full_data.loc[indices_nulos_edad].head()"
   ]
  },
  {
   "cell_type": "code",
   "execution_count": null,
   "metadata": {},
   "outputs": [],
   "source": [
    "# Se cuenta el número de valores nulos restantes en la columna 'Embarked' después de la imputación\n",
    "full_data['Embarked'].isnull().sum()"
   ]
  },
  {
   "cell_type": "markdown",
   "metadata": {},
   "source": [
    "### Imputación - Variable `Age`\n"
   ]
  },
  {
   "cell_type": "markdown",
   "metadata": {},
   "source": [
    "#### **Ejercicio #3**"
   ]
  },
  {
   "cell_type": "code",
   "execution_count": 24,
   "metadata": {},
   "outputs": [],
   "source": [
    "# Se define una lista con la variable 'Pclass' que se usará para agrupar\n",
    "variable_agrupacion = ['Pclass']\n",
    "\n",
    "# Aquí va tu código"
   ]
  },
  {
   "cell_type": "markdown",
   "metadata": {},
   "source": [
    "Validamos que la información se encuentre completa ahora que se realizó la imputación."
   ]
  },
  {
   "cell_type": "code",
   "execution_count": null,
   "metadata": {},
   "outputs": [],
   "source": [
    "# Se cuenta el número de valores nulos restantes en la columna 'Age' después de la imputación\n",
    "full_data['Age'].isnull().sum()"
   ]
  },
  {
   "cell_type": "markdown",
   "metadata": {},
   "source": [
    "### Label Encoding - Variable `Pclass`"
   ]
  },
  {
   "cell_type": "markdown",
   "metadata": {},
   "source": [
    "La única variable categórica ordinal en el dataset es Pclass. Por esto realizaremos Label Encoding donde la Clase alta será 1 y la clase baja 3."
   ]
  },
  {
   "cell_type": "code",
   "execution_count": 26,
   "metadata": {},
   "outputs": [],
   "source": [
    "# Define el orden de las categorías para la variable 'Pclass'\n",
    "pclass_categories = [1, 2, 3]\n",
    "\n",
    "# Define si la variable categórica debe ser ordenada\n",
    "ordenado = True\n",
    "\n",
    "# Convierte la columna 'Pclass' en una variable categórica con un orden específico usando Label Encoding\n",
    "full_data['Pclass'] = pd.Categorical(\n",
    "    full_data['Pclass'],\n",
    "    categories=pclass_categories,\n",
    "    ordered=ordenado\n",
    ")"
   ]
  },
  {
   "cell_type": "code",
   "execution_count": null,
   "metadata": {},
   "outputs": [],
   "source": [
    "# Muestra el tipo de datos de la columna 'Pclass' para verificar que se haya convertido en una variable categórica ordenada\n",
    "full_data.Pclass.dtypes"
   ]
  },
  {
   "cell_type": "markdown",
   "metadata": {},
   "source": [
    "### One-Hot Encoding - Variables Catégoricas Nominales"
   ]
  },
  {
   "cell_type": "markdown",
   "metadata": {},
   "source": [
    "Buscamos aplicar la técnica convirtiendo las categorias de estas columnas en columnas binarias con unos y ceros."
   ]
  },
  {
   "cell_type": "code",
   "execution_count": 28,
   "metadata": {},
   "outputs": [],
   "source": [
    "# Define las variables categóricas que se codificarán con one-hot encoding\n",
    "categorical_vars = ['Sex', 'Embarked']\n",
    "\n",
    "# Definimos el tipo de las columnas binarias\n",
    "tipo_binarias = 'int'\n",
    "\n",
    "# Aplica la codificación one-hot a las variables categóricas especificadas\n",
    "full_data = pd.get_dummies(full_data, columns=categorical_vars, dtype=tipo_binarias)"
   ]
  },
  {
   "cell_type": "markdown",
   "metadata": {},
   "source": [
    "Ahora validemos la nueva estructura de nuestro dataset."
   ]
  },
  {
   "cell_type": "code",
   "execution_count": null,
   "metadata": {},
   "outputs": [],
   "source": [
    "# Muestra los primeros registros del dataset para verificar la aplicación de la codificación one-hot y otros cambios recientes\n",
    "full_data.head()"
   ]
  },
  {
   "cell_type": "markdown",
   "metadata": {},
   "source": [
    "Teniendo en cuenta que en la columna `Sex_male` los 1 representan el masculino y los 0 el femenino, podemos eliminar la columna `Sex_female` o viceversa. \n",
    "\n",
    "De igual forma sucede con el puerto de embarque, podemos eliminar alguna de las tres columnas."
   ]
  },
  {
   "cell_type": "markdown",
   "metadata": {},
   "source": [
    "Ahora guardamos el dataset pre-procesado que se usará para la generación de valor posteriormente"
   ]
  },
  {
   "cell_type": "code",
   "execution_count": null,
   "metadata": {},
   "outputs": [],
   "source": [
    "# Define las columnas a eliminar por redundancia\n",
    "columnas_eliminar = ['Sex_female', 'Embarked_Q']\n",
    "\n",
    "# Se eliminan las columnas definidas con la función drop\n",
    "full_data = full_data.drop(columns=columnas_eliminar)\n",
    "\n",
    "# Muestra los primeros registros del dataset para verificar las columnas\n",
    "full_data.head()"
   ]
  },
  {
   "cell_type": "markdown",
   "metadata": {},
   "source": [
    "Ahora guardamos el dataset pre-procesado que se usará para la generación de valor posteriormente"
   ]
  },
  {
   "cell_type": "code",
   "execution_count": 31,
   "metadata": {},
   "outputs": [],
   "source": [
    "full_data.to_csv('../Data/Inputs/data_preprocesada.csv', index= False)"
   ]
  },
  {
   "cell_type": "markdown",
   "metadata": {},
   "source": [
    "<a id=\"visualizaciones\"></a>\n",
    "# **Capítulo 2: Visualizaciones Titanic**\n",
    "\n",
    "\n",
    "<figure>\n",
    "<center>\n",
    "<img src='https://dantaanalytics.com/wp-content/uploads/2020/10/data-visualization.jpg' width=\"650\" height=\"450\" />\n",
    "<figcaption></figcaption></center>\n",
    "</figure>\n",
    "\n",
    "\n",
    "\n",
    "\n",
    "La visualización de datos es una herramienta esencial en la ciencia de datos que permite transformar datos complejos en representaciones visuales fáciles de interpretar. A través de gráficos, diagramas y otros elementos visuales, es posible identificar patrones, tendencias y relaciones en los datos que de otra manera podrían pasar desapercibidos.\n",
    "\n",
    "En el contexto de la clasificación binaria, como en el caso de los sobrevivientes del Titanic, la visualización de datos juega un papel crucial. Al analizar datos de pasajeros como edad, género, clase de boleto y su estado de supervivencia, las visualizaciones permiten descubrir rápidamente cuáles de estos factores influyeron más en la probabilidad de sobrevivir. Por ejemplo, un gráfico de barras puede mostrar de manera clara cómo la tasa de supervivencia varía según la clase de boleto o el género."
   ]
  },
  {
   "cell_type": "code",
   "execution_count": 32,
   "metadata": {},
   "outputs": [],
   "source": [
    "full_data = pd.read_csv('../Data/Inputs/Titanic-Dataset.csv')"
   ]
  },
  {
   "cell_type": "code",
   "execution_count": null,
   "metadata": {},
   "outputs": [],
   "source": [
    "print(full_data.shape)\n",
    "full_data.head()"
   ]
  },
  {
   "cell_type": "markdown",
   "metadata": {},
   "source": [
    "## **2.1.Gráficos de cantidades**"
   ]
  },
  {
   "cell_type": "markdown",
   "metadata": {},
   "source": [
    "\n",
    "### **Gráficos de Barras**\n",
    "\n",
    "Utilizados para comparar diferentes categorías entre sí. Las barras pueden ser verticales u horizontales.\n",
    "\n"
   ]
  },
  {
   "cell_type": "code",
   "execution_count": null,
   "metadata": {},
   "outputs": [],
   "source": [
    "# Grafico de barras verticales \n",
    "plt.figure(figsize=(5, 4))\n",
    "\n",
    "ax = sns.countplot(x='Pclass', data=full_data)\n",
    "\n",
    "# Add labels\n",
    "ax.bar_label(ax.containers[0])\n",
    "\n",
    "\n",
    "plt.show()"
   ]
  },
  {
   "cell_type": "code",
   "execution_count": null,
   "metadata": {},
   "outputs": [],
   "source": [
    "# Grafico de barras horizontales\n",
    "plt.figure(figsize=(5, 4))\n",
    "\n",
    "variable='Pclass'\n",
    "\n",
    "sns.countplot(y=variable, data=full_data, palette='viridis')\n",
    "\n",
    "# Añadir etiquetas y título\n",
    "plt.ylabel(f'{variable}')\n",
    "plt.xlabel('Número de Pasajeros')\n",
    "plt.title(f'Cantidad de Pasajeros por {variable}')\n",
    "plt.show()"
   ]
  },
  {
   "cell_type": "markdown",
   "metadata": {},
   "source": [
    "Se observa que la mayor cantidad de pasajeros eran de la clase 3\n",
    "\n",
    "### **Gráfico de barras abierto por otra variable categórica**"
   ]
  },
  {
   "cell_type": "code",
   "execution_count": null,
   "metadata": {},
   "outputs": [],
   "source": [
    "# Gráfico de barras para dos variables categóricas \n",
    "plt.figure(figsize=(7,5))\n",
    "\n",
    "dataset=full_data\n",
    "variable1='Pclass'\n",
    "variable2='Sex'\n",
    "\n",
    "sns.countplot(x=variable1, hue=variable2, data=dataset)\n",
    "\n",
    "plt.xlabel(f'{variable}')\n",
    "plt.ylabel('Número de Pasajeros')\n",
    "plt.title(f'Cantidad de Pasajeros por {variable1} y {variable2}')\n",
    "plt.show()"
   ]
  },
  {
   "cell_type": "markdown",
   "metadata": {},
   "source": [
    "Se puede ver que la clase 3 tiene más mujeres que las otras clases, sin embargo, la proporción respecto de los hombres de esa clase es mucho menor\n",
    "\n",
    "**Otro ejemplo**: gráfico de barras por Género y Clase, comparando total pasajeros vs sobreviviente"
   ]
  },
  {
   "cell_type": "code",
   "execution_count": null,
   "metadata": {},
   "outputs": [],
   "source": [
    "fig, axs = plt.subplots(2, 1, figsize=(8, 6))\n",
    "# Configuración de colores\n",
    "colors = ['#91DCEA', '#5FBB68','#F9D23C', '#F9A729', '#FD6F30'] # Paleta azul para las clases\n",
    "full_data['Sex'] = full_data['Sex'].astype('category')\n",
    "\n",
    "variable1='Sex'\n",
    "variable2='Pclass'\n",
    "\n",
    "\n",
    "# Primer gráfico: Número absoluto de pasajeros por {variable1} y {variable2}\n",
    "\n",
    "sns.countplot(x=variable1, hue=variable2, data=full_data, palette = colors, ax=axs[0])\n",
    "axs[0].set_title(f\"Número absoluto de pasajeros por {variable1} y {variable2}\")\n",
    "axs[0].set_xlabel(f\"{variable1}\")\n",
    "axs[0].set_ylim(0,400)\n",
    "axs[0].set_ylabel(\"Pasajeros\")\n",
    "axs[0].legend(title=f\"{variable2}\")\n",
    "\n",
    "# Segundo gráfico: Número absoluto de sobrevivientes por {variable1} y {variable2}\n",
    "sobrevivientes= full_data[full_data.Survived==1]\n",
    "\n",
    "sns.countplot(x=variable1, hue=variable2, data=sobrevivientes, palette=colors, ax=axs[1])\n",
    "axs[1].set_title(f\"Número absoluto de sobrevivientes por {variable1} y {variable2}\")\n",
    "axs[1].set_xlabel(f\"{variable1}\")\n",
    "axs[1].set_ylim(0,400)\n",
    "axs[1].set_ylabel('Sobrevivientes')\n",
    "axs[1].legend(title=f\"{variable2}\")\n",
    "\n",
    "# Ajuste de diseño para evitar superposiciones\n",
    "plt.tight_layout()\n",
    "plt.show()"
   ]
  },
  {
   "cell_type": "code",
   "execution_count": null,
   "metadata": {},
   "outputs": [],
   "source": [
    "dataset=full_data\n",
    "variable1='Sex'\n",
    "variable2='Pclass'\n",
    "\n",
    "# Configuración de colores\n",
    "colors = ['#91DCEA', '#5FBB68','#F9D23C', '#F9A729', '#FD6F30'] # Paleta azul para las clases\n",
    " \n",
    "# Crear tablas resumen que contenga el número de pasajeros por clase, sexo y supervivencia\n",
    "pasajeros = dataset.groupby([variable1, variable2]).size().reset_index(name='count')\n",
    "sobrevivientes = dataset[dataset['Survived'] == 1].groupby([variable1, variable2]).size().reset_index(name='count')\n",
    " \n",
    "# Crear una figura para graficar\n",
    "fig, ax = plt.subplots(figsize=(10, 6))\n",
    " \n",
    "# Graficar el número de pasajeros por sexo y clase\n",
    "sns.barplot(x=variable1, y='count', hue=variable2, data=pasajeros, ax=ax, palette= colors, alpha=0.6)\n",
    " \n",
    "# Graficar el número de sobrevivientes por sexo y clase, sobreponiendo las barras\n",
    "sns.barplot(x=variable1, y='count', hue=variable2, data=sobrevivientes, ax=ax, color='blue', alpha=0.8)\n",
    " \n",
    "# Ajustar leyendas y títulos\n",
    "ax.set_title(f'Número de pasajeros y sobrevivientes por {variable1} y {variable2}')\n",
    "ax.set_ylabel('pasajeros')\n",
    "ax.legend(title=f'{variable2}')\n",
    " \n",
    "plt.show()"
   ]
  },
  {
   "cell_type": "markdown",
   "metadata": {},
   "source": [
    "## **2.2.Gráficos de proporción**\n",
    "\n",
    "Los gráficos de proporción son herramientas visuales utilizadas para mostrar cómo están proporcionados los datos de una variable en un dataset. Son fundamentales en el análisis exploratorio de datos porque permiten a los analistas entender rápidamente las características clave de los datos.\n"
   ]
  },
  {
   "cell_type": "markdown",
   "metadata": {},
   "source": [
    "\n",
    "### **Diagramas de torta**\n",
    "\n",
    "\n",
    "Un diagrama de torta, también conocido como gráfico de pastel o gráfico circular, es un tipo de gráfico que se utiliza para representar la proporción de diferentes categorías dentro de un conjunto de datos. En este gráfico, los datos se visualizan como \"rebanadas\" de un círculo, donde el tamaño de cada rebanada es proporcional al porcentaje o proporción que esa categoría representa del total. Para entender mejor la composición de los pasajeros en el conjunto de datos, se puede utilizar un gráfico de torta. Este gráfico visualiza la proporción de cada categoría de género dentro del total de pasajeros.\n"
   ]
  },
  {
   "cell_type": "code",
   "execution_count": null,
   "metadata": {},
   "outputs": [],
   "source": [
    "# Crear el gráfico de torta para la distribución de {variable}\n",
    "\n",
    "variable='Pclass'\n",
    "\n",
    "conteo_genero = full_data[variable].value_counts()\n",
    "\n",
    "plt.figure(figsize=(6, 4))\n",
    "plt.pie(conteo_genero, labels=conteo_genero.index, autopct='%1.1f%%')\n",
    "plt.title(f'Proporción por {variable} de los Pasajeros')\n",
    "plt.show()"
   ]
  },
  {
   "cell_type": "markdown",
   "metadata": {},
   "source": [
    "### **Treemap (gráfico de rectángulos)**"
   ]
  },
  {
   "cell_type": "code",
   "execution_count": null,
   "metadata": {},
   "outputs": [],
   "source": [
    "# Crear el gráfico treemap para la distribución de {variable}\n",
    "dataset=full_data\n",
    "variable='Pclass'\n",
    "\n",
    "conteo = dataset[variable].value_counts()\n",
    "colors = ['#91DCEA', '#5FBB68','#F9D23C', '#F9A729', '#FD6F30']\n",
    "\n",
    "plt.figure(figsize=(6, 4))\n",
    "squarify.plot(sizes=conteo, label=conteo.index, alpha=.8,color = colors)\n",
    "plt.axis('off')\n",
    "plt.show()"
   ]
  },
  {
   "cell_type": "code",
   "execution_count": null,
   "metadata": {},
   "outputs": [],
   "source": [
    "conteo = dataset[variable].value_counts()\n",
    "conteo"
   ]
  },
  {
   "cell_type": "code",
   "execution_count": null,
   "metadata": {},
   "outputs": [],
   "source": [
    "cantidad= conteo.values\n",
    "cantidad"
   ]
  },
  {
   "cell_type": "code",
   "execution_count": null,
   "metadata": {},
   "outputs": [],
   "source": [
    "# Crear el gráfico treemap para la distribución de {variable}\n",
    "dataset=full_data\n",
    "variable = 'Pclass'\n",
    "\n",
    "# Calcular las proporciones por clase\n",
    "conteo = dataset[variable].value_counts()\n",
    "etiquetas = conteo.index.astype(str)\n",
    "cantidad= conteo.values\n",
    "colors = ['#91DCEA', '#5FBB68','#F9D23C', '#F9A729', '#FD6F30']\n",
    "\n",
    "# Crear etiquetas con proporciones\n",
    "total = cantidad.sum()\n",
    "etiquetas_con_pct = [f'{variable} {label}\\n{size} ({size / total:.1%})' for label, size in zip(etiquetas, cantidad)]\n",
    "\n",
    "# Crear el gráfico treemap\n",
    "plt.figure(figsize=(6, 6))\n",
    "squarify.plot(sizes=cantidad, label=etiquetas_con_pct, alpha=0.7, color=colors)\n",
    "plt.title(f'Distribución de {variable} con proporciones')\n",
    "plt.axis('off')  # Ocultar los ejes\n",
    "plt.show()"
   ]
  },
  {
   "cell_type": "markdown",
   "metadata": {},
   "source": [
    "## **2.3 Gráficos de Distribución**\n",
    "\n",
    "Los gráficos de distribución son herramientas visuales utilizadas para mostrar cómo se distribuyen los datos de una variable o conjunto de variables en un dataset. Estos gráficos ayudan a identificar patrones como la forma, dispersión, centralidad y presencia de outliers en los datos. Son fundamentales en el análisis exploratorio de datos porque permiten a los analistas entender rápidamente las características clave de los datos."
   ]
  },
  {
   "cell_type": "markdown",
   "metadata": {},
   "source": [
    "\n",
    "### **Histograma**\n",
    "\n",
    "Es similar a un gráfico de barras, pero se utiliza para representar la distribución de una variable continua."
   ]
  },
  {
   "cell_type": "code",
   "execution_count": null,
   "metadata": {},
   "outputs": [],
   "source": [
    "plt.figure(figsize=(8,6))\n",
    "\n",
    "variable='Age'\n",
    "\n",
    "sns.histplot(full_data[variable])\n",
    "plt.show()"
   ]
  },
  {
   "cell_type": "code",
   "execution_count": null,
   "metadata": {},
   "outputs": [],
   "source": [
    "#creación de histograma reduciendo el número de agrupaciones\n",
    "variable='Age' \n",
    "grupos=8  # cantidad de agrupaciones que se desean graficar\n",
    "curva_densidad= True # poner True o False para incluir la curva de densidad\n",
    "\n",
    "plt.figure(figsize=(8, 6))\n",
    "sns.histplot(full_data[variable], bins=grupos, kde=curva_densidad, color='blue')\n",
    "plt.title(f'Distribución de la Variable {variable}')\n",
    "plt.xlabel(f'{variable}')\n",
    "plt.ylabel('Frecuencia')\n",
    "plt.show()  "
   ]
  },
  {
   "cell_type": "markdown",
   "metadata": {},
   "source": [
    "### **Boxplot (Diagrama de caja y bigotes)**\n",
    "\n",
    "Es una forma conveniente de visualizar la distribución de los datos a través de sus cuartiles. Los diagramas de caja suelen tener líneas verticales que se extienden desde las cajas, llamadas <strong>bigotes</strong>. Estos bigotes indican la variabilidad fuera de los cuartiles superior e inferior, por lo que los Boxplots también se conocen como <strong>diagrama de caja y bigotes</strong>. Los valores atípicos en los datos se representan como puntos individuales."
   ]
  },
  {
   "cell_type": "code",
   "execution_count": null,
   "metadata": {},
   "outputs": [],
   "source": [
    "plt.figure(figsize=(5,4))\n",
    "\n",
    "variable='Age' \n",
    "\n",
    "sns.boxplot(y=variable, data=full_data)\n",
    "plt.show()"
   ]
  },
  {
   "cell_type": "markdown",
   "metadata": {},
   "source": [
    "Este tipo de gráficas las podemos utilizar para una gran variedad de casos. Por ejemplo, en el caso en que queremos ver la edad de las personas de manera rápida, pero separándolas por género."
   ]
  },
  {
   "cell_type": "code",
   "execution_count": null,
   "metadata": {},
   "outputs": [],
   "source": [
    "plt.figure(figsize=(8,6))\n",
    "\n",
    "variable1='Sex'\n",
    "variable2='Age'\n",
    "\n",
    "sns.boxplot(x=variable1, y=variable2, data=full_data,palette='viridis')\n",
    "plt.title(f'Gráfico BoxPlot de {variable2} por {variable1}')\n",
    "plt.xlabel(f'{variable1}')\n",
    "plt.ylabel(f'{variable2}')\n",
    "plt.grid()\n",
    "plt.show()"
   ]
  },
  {
   "cell_type": "markdown",
   "metadata": {},
   "source": [
    "Otro ejemplo: ver la edad de las personas, separándolas por género y abierto por sobreviviente: si (1) , no (0)"
   ]
  },
  {
   "cell_type": "code",
   "execution_count": null,
   "metadata": {},
   "outputs": [],
   "source": [
    "plt.figure(figsize=(8,6))\n",
    "\n",
    "variable1='Sex'\n",
    "variable2='Age'\n",
    "variable3='Survived'\n",
    "\n",
    "sns.boxplot(x=variable1, y=variable2, hue=variable3, data=full_data)\n",
    "\n",
    "plt.title(f'Gráfico BoxPlot de {variable2} segmentado por {variable1} y {variable3}')\n",
    "plt.xlabel(f'{variable1}')\n",
    "plt.ylabel(f'{variable2}')\n",
    "plt.grid()\n",
    "plt.show()\n",
    "\n",
    "\n",
    "plt.show()"
   ]
  },
  {
   "cell_type": "markdown",
   "metadata": {},
   "source": [
    "**En las mujeres el promedio de edad de las sobrevientes fue mayor que las no sobrevientes, mientras que en el caso de los hombres fue al contrario**"
   ]
  },
  {
   "cell_type": "markdown",
   "metadata": {},
   "source": [
    "## **Ejercicio práctico 1**"
   ]
  },
  {
   "cell_type": "code",
   "execution_count": 49,
   "metadata": {},
   "outputs": [],
   "source": [
    "# Coloque su código aquí\n"
   ]
  },
  {
   "cell_type": "markdown",
   "metadata": {},
   "source": [
    "## **2.4 Gráficos Relacionales**\n",
    "\n",
    "Los gráficos relacionales son herramientas fundamentales en el análisis de datos que nos permiten explorar y visualizar cómo se relacionan dos o más variables entre sí. Estos gráficos son especialmente útiles para entender las asociaciones y patrones que pueden no ser evidentes al observar los datos en forma tabular, permitiendo una comprensión más profunda de cómo una variable afecta o se relaciona con otra. Son útiles para identificar tendencias, correlaciones, y patrones en los datos. \n",
    "\n",
    "**Tipos de Gráficos Relacionales:**\n",
    "\n",
    "- **Gráfico de Dispersión (Scatter Plot):** Muestra la relación entre dos variables numéricas. Cada punto en el gráfico representa una observación en el conjunto de datos, con la posición en el eje X e Y correspondiente a los valores de las dos variables.\n",
    "  \n",
    "- **Gráfico de Líneas (Line Plot):** Ideal para visualizar la relación entre variables cuando una de ellas representa una medida de tiempo. Permite observar tendencias y cambios a lo largo del tiempo.\n",
    "  \n",
    "- **Gráfico de Relación (relplot):** Una función de Seaborn que permite crear gráficos de dispersión o de líneas con facilidad. La función <code>relplot()</code> es especialmente útil para crear gráficos que muestran cómo una variable se relaciona con otra, con opciones para ajustar el tipo de gráfico según el contexto."
   ]
  },
  {
   "cell_type": "markdown",
   "metadata": {},
   "source": [
    "### **Gráfico de dispersión (scatterplot)**\n",
    "\n",
    "<strong>Scatter plot</strong> es un tipo de gráfico que se utiliza para visualizar la relación entre dos variables numéricas. Cada punto en el gráfico representa un par de valores de las dos variables, con una variable en el eje X y la otra en el eje Y. Este tipo de gráfico es muy útil para detectar patrones, tendencias, correlaciones, y posibles anomalías entre las dos variables.\n"
   ]
  },
  {
   "cell_type": "code",
   "execution_count": null,
   "metadata": {},
   "outputs": [],
   "source": [
    "plt.figure(figsize=(8,6))\n",
    "\n",
    "dataset=full_data\n",
    "variable1='Age'\n",
    "variable2='Fare'\n",
    "variable3='Sex'\n",
    "\n",
    "sns.scatterplot(x=variable1, y=variable2, hue=variable3, data=dataset)\n",
    "\n",
    "plt.title(f'Gráfico de dispersión de {variable2} y {variable1} diferenciando por {variable3}')\n",
    "plt.xlabel(f'{variable1}')\n",
    "plt.ylabel(f'{variable2}')\n",
    "plt.grid()\n",
    "plt.show()\n",
    "\n",
    "plt.show()"
   ]
  },
  {
   "cell_type": "markdown",
   "metadata": {},
   "source": [
    "###  **Stripplot**\n",
    "\n",
    "\n",
    "Un **stripplot** es un tipo de gráfico que se utiliza para representar la distribución de una variable numérica a lo largo de una variable categórica mediante puntos.\n"
   ]
  },
  {
   "cell_type": "code",
   "execution_count": null,
   "metadata": {},
   "outputs": [],
   "source": [
    "plt.figure(figsize=(8,6))\n",
    "\n",
    "dataset=full_data\n",
    "variable1='Age'\n",
    "variable2='Sex'\n",
    "variable3='Survived'\n",
    "\n",
    "sns.stripplot(x=variable2, y=variable1, hue=variable3, data=dataset)\n",
    "\n",
    "plt.title(f'Gráfico Stripplot de {variable2} y {variable1} diferenciando por {variable3}')\n",
    "plt.xlabel(f'{variable2}')\n",
    "plt.ylabel(f'{variable1}')\n",
    "plt.grid()\n",
    "plt.show()\n",
    "\n",
    "plt.show()"
   ]
  },
  {
   "cell_type": "markdown",
   "metadata": {},
   "source": [
    "### **swarmplot**\n",
    "\n",
    "Un swarmplot es un tipo de gráfico en Seaborn que se utiliza para visualizar la distribución de datos categóricos mediante la disposición de puntos de forma que no se superpongan, a diferencia del stripplot, donde los puntos pueden solaparse. En un swarmplot, los puntos se dispersan de manera que cada uno de ellos sea visible, lo que facilita la interpretación de la distribución y la densidad de los datos dentro de cada categoría.\n"
   ]
  },
  {
   "cell_type": "code",
   "execution_count": null,
   "metadata": {},
   "outputs": [],
   "source": [
    "plt.figure(figsize=(7,7))\n",
    "\n",
    "dataset=full_data\n",
    "variable1='Age'\n",
    "variable2='Sex'\n",
    "variable3='Survived'\n",
    "\n",
    "sns.swarmplot(x=variable2, y=variable1, hue=variable3, data=dataset, palette = sns.color_palette(\"Set1\"), alpha = 0.7)\n",
    "\n",
    "plt.title(f'Gráfico Swarmplot de {variable2} y {variable1} diferenciando por {variable3}')\n",
    "plt.xlabel(f'{variable2}')\n",
    "plt.ylabel(f'{variable1}')\n",
    "plt.grid()\n",
    "plt.show()\n",
    "\n",
    "\n",
    "plt.show()"
   ]
  },
  {
   "cell_type": "markdown",
   "metadata": {},
   "source": [
    "* Podemos decir que la mayoría de los pasajeros tienen aproximadamente entre 18 y 30 años\n",
    "* La mayoría de los pasajeros a bordo eran hombres\n",
    "* la mayoría de los supervivientes fueron mujeres"
   ]
  },
  {
   "cell_type": "markdown",
   "metadata": {},
   "source": [
    "### **Matriz de correlación y mapas de calor (heatmap)**\n",
    "\n",
    "Un heatmap o mapa de calor es un tipo de visualización gráfica que representa la magnitud de un fenómeno mediante el uso de colores en dos dimensiones. Es una herramienta útil para mostrar la relación entre dos variables (en los ejes X e Y) y para resaltar patrones, correlaciones, o distribuciones dentro de un conjunto de datos.\n",
    "\n",
    "Ahora vamos a trazar la matriz de correlación de nuestros datos con un heatmap."
   ]
  },
  {
   "cell_type": "code",
   "execution_count": null,
   "metadata": {},
   "outputs": [],
   "source": [
    "# Excluir campos por nombre\n",
    "dataset=full_data\n",
    "\n",
    "columnas_a_excluir = ['Name', 'PassengerId','Ticket','Survived', 'Pclass']\n",
    "data_analisis = dataset.drop(columns=columnas_a_excluir)\n",
    "\n",
    "# Selecciona solo columnas numéricas\n",
    "numeric_data = data_analisis.select_dtypes(include=['number'])\n",
    "\n",
    "# Calcular la matriz de correlación\n",
    "correlation_matrix = numeric_data.corr()\n",
    "\n",
    "# Crear el heatmap\n",
    "plt.figure(figsize=(8, 7))\n",
    "sns.heatmap(correlation_matrix, cmap=\"YlGnBu\", annot=True, fmt=\".2f\")\n",
    "plt.title(\"Matriz de Correlación\")\n",
    "plt.show()"
   ]
  },
  {
   "cell_type": "markdown",
   "metadata": {},
   "source": [
    "**Observamos que:**\n",
    "* La matriz de correlacion es simétrica (los valores por encima y por debajo de la diagonal son los mismos )\n",
    "\n",
    "* las correlaciones entre estas variables son débiles (menores a 0,5).\n",
    "\n",
    "* La correlacion más alta se presenta entre las variables 'Parch' y 'SibSp' y es positiva. "
   ]
  },
  {
   "cell_type": "markdown",
   "metadata": {},
   "source": [
    "### **Gráfico de Contingencia (Heatmap de Variables Categóricas):**\n",
    "\n",
    "Sirve para visualizar la relación entre dos variables categóricas.\n",
    "Ejemplo: Mostrar la relación entre Pclass y Survived."
   ]
  },
  {
   "cell_type": "code",
   "execution_count": null,
   "metadata": {},
   "outputs": [],
   "source": [
    "plt.figure(figsize=(5, 5))\n",
    "\n",
    "dataset=full_data\n",
    "variable1='Pclass'\n",
    "variable2='Survived'\n",
    "\n",
    "tabla_contingencia = pd.crosstab(dataset[variable1], dataset[variable2])\n",
    "sns.heatmap(tabla_contingencia, annot=True, cmap=\"YlGnBu\", fmt=\"d\")\n",
    "plt.title(f'Relación entre {variable1} y {variable2}')\n",
    "plt.xlabel(f'{variable2}')\n",
    "plt.ylabel(f'{variable1}')\n",
    "plt.show()"
   ]
  },
  {
   "cell_type": "markdown",
   "metadata": {},
   "source": [
    "## **Conclusiones**\n",
    "\n",
    "El análisis realizado con diversas visualizaciones gráficas proporcionó una comprensión detallada de los datos sobre los pasajeros. Los histogramas y gráficos categóricos ayudaron a desglosar la distribución de características como la edad, la tarifa, el género y la clase de los pasajeros. Los gráficos de regresión y el heatmap aportaron información sobre las relaciones entre variables, y las visualizaciones adicionales como los FacetGrids permitieron una exploración más profunda de los datos.\n",
    "\n",
    "En general, las conclusiones revelan patrones y relaciones clave entre las variables, proporcionando una base sólida para realizar análisis adicionales o construir modelos predictivos en el futuro.\n"
   ]
  },
  {
   "cell_type": "markdown",
   "metadata": {},
   "source": [
    "### **Ejercicio práctico 2**"
   ]
  },
  {
   "cell_type": "markdown",
   "metadata": {},
   "source": [
    "<a id=\"clasificacion\"></a>\n",
    "\n",
    "# **Capítulo 3: Algoritmos de Clasificación Titanic**\n",
    "\n",
    "Hoy vamos a adentrarnos en una de las áreas más fundamentales y poderosas del aprendizaje automático: la clasificación. Imaginen por un momento que son los responsables de tomar decisiones críticas en una empresa, donde deben determinar si un cliente se quedará o abandonará el servicio, si un correo electrónico es spam o no, o incluso si una transacción es fraudulenta. Todas estas decisiones dependen de la capacidad para clasificar correctamente la información que tienen a su disposición.\n"
   ]
  },
  {
   "cell_type": "markdown",
   "metadata": {},
   "source": [
    "<figure>\n",
    "    <center>\n",
    "        <img src='../Data/Images/titanic_classification.png' width=\"700\" height=\"450\" />\n",
    "        <figcaption></figcaption>\n",
    "    </center>\n",
    "</figure>"
   ]
  },
  {
   "cell_type": "markdown",
   "metadata": {},
   "source": [
    "### **Introducción al aprendizaje supervisado: El Desafío del Titanic**\n",
    "\n",
    "#### ¿Por Qué Aprendizaje Supervisado?\n",
    "\n",
    " En el conjunto de datos del Titanic, nuestro objetivo es predecir si un pasajero sobrevivió o no. Este es un ejemplo clásico de un problema de machine learning supervisado, donde la variable objetivo es categórica con dos clases: \"Sobrevivió\" (1) y \"No Sobrevivió\" (0). \n",
    "\n",
    "<figure>\n",
    "<center>\n",
    "<img src='../Data/Images/emoji_clasificacion.png' width=\"550\" height=\"250\" />\n",
    "<figcaption></figcaption></center>\n",
    "</figure>\n",
    "\n",
    "¡Vamos a embarcarnos en este viaje para desentrañar los secretos del conjunto de datos del Titanic y mejorar nuestras habilidades en clasificación binaria!"
   ]
  },
  {
   "cell_type": "code",
   "execution_count": null,
   "metadata": {},
   "outputs": [],
   "source": [
    "data_inicial = pd.read_csv('../Data/Inputs/Titanic-Dataset.csv')\n",
    "data_inicial.head(3)"
   ]
  },
  {
   "cell_type": "code",
   "execution_count": null,
   "metadata": {},
   "outputs": [],
   "source": [
    "df_0 = pd.read_csv('../Data/Inputs/data_preprocesada.csv')\n",
    "df_0.head(3)"
   ]
  },
  {
   "cell_type": "code",
   "execution_count": null,
   "metadata": {},
   "outputs": [],
   "source": [
    "# Conteo de la variable 'Survived' y sus proporciones\n",
    "print(df_0[\"Survived\"].value_counts())\n",
    "print(\"\")\n",
    "print(df_0[\"Survived\"].value_counts(True))"
   ]
  },
  {
   "cell_type": "markdown",
   "metadata": {},
   "source": [
    "## **3.1 Entrenamiento y Prueba**"
   ]
  },
  {
   "cell_type": "markdown",
   "metadata": {},
   "source": [
    " 1. **Pasajeros (Base de Datos)**: Es como una lista de todos tus pasajeros. Cada pasajero tiene información sobre si ha sobrevivido (1) o no (0).\n",
    "\n",
    "**¿Cómo funciona?**\n",
    "\n",
    "* Entrenar: Usamos X_entreno (información de pasajeros) y y_entreno (si sobrevivieron o no, variable objetivo, target) para enseñar al modelo. Es como cuando practicas para un examen usando algunos ejercicios.\n",
    "\n",
    "* Probar: Luego, usamos X_prueba (nueva información de pasajeros) y y_prueba (resultados reales si sobrevivieron o no o no) para ver si el modelo predice correctamente. Es como tomar el examen real después de haber practicado.\n",
    "\n",
    "En resumen, entrenar es como estudiar, y probar es como hacer el examen para ver si aprendiste bien."
   ]
  },
  {
   "cell_type": "code",
   "execution_count": 58,
   "metadata": {},
   "outputs": [],
   "source": [
    "# Separar características y variable objetivo\n",
    "X = df_0.drop(columns=['Survived']) \n",
    "y = df_0['Survived']"
   ]
  },
  {
   "cell_type": "code",
   "execution_count": 59,
   "metadata": {},
   "outputs": [],
   "source": [
    "# Dividir en conjunto de entrenamiento y prueba\n",
    "porc_conjunto_prueba = 0.2\n",
    "X_entreno, X_prueba, y_entreno, y_prueba = train_test_split(X, y, test_size=porc_conjunto_prueba, random_state=123)"
   ]
  },
  {
   "cell_type": "markdown",
   "metadata": {},
   "source": [
    "<figure>\n",
    "<center>\n",
    "<img src='../Data/Images/Entrenamiento_prueba.png' width=\"950\" height=\"400\" />\n",
    "<figcaption></figcaption></center>\n",
    "</figure>\n"
   ]
  },
  {
   "cell_type": "markdown",
   "metadata": {},
   "source": [
    "## **3.2 Regresión Logística**\n",
    "\n",
    "<figure>\n",
    "<center>\n",
    "<img src='../Data/Images/logistic_regression.png' width=\"800\" height=\"400\" />\n",
    "<figcaption></figcaption></center>\n",
    "</figure>\n",
    "\n",
    "La **regresión logística** es un modelo estadístico utilizado para predecir la probabilidad de una variable dependiente categórica, generalmente binaria. A diferencia de la regresión lineal, que se utiliza para variables continuas, la regresión logística estima la probabilidad de que un evento ocurra mediante una función logística, que transforma la salida lineal del modelo en una probabilidad entre 0 y 1. Esta técnica es ampliamente utilizada en problemas de clasificación, como la detección de fraude, diagnóstico médico y análisis de mercado.\n",
    "\n",
    "En el contexto de aprendizaje automático, la regresión logística es valorada por su simplicidad y eficacia. Aunque se basa en un supuesto de relación lineal entre las características y la probabilidad de la clase positiva, su capacidad para manejar variables independientes e interpretar la importancia de las características la hace útil en una variedad de aplicaciones. La salida del modelo puede ser interpretada como una probabilidad, lo que facilita la toma de decisiones basadas en umbrales de probabilidad ajustables.\n",
    "\n",
    "### **Entrenamiento del modelo**"
   ]
  },
  {
   "cell_type": "code",
   "execution_count": null,
   "metadata": {},
   "outputs": [],
   "source": [
    "# Entrenar modelo de regresión logística\n",
    "model = LogisticRegression()\n",
    "model.fit(X_entreno, y_entreno)"
   ]
  },
  {
   "cell_type": "code",
   "execution_count": null,
   "metadata": {},
   "outputs": [],
   "source": [
    "# Predicciones\n",
    "y_pred_entreno_lr = model.predict(X_entreno)\n",
    "y_pred_prueba_lr = model.predict(X_prueba)"
   ]
  },
  {
   "cell_type": "code",
   "execution_count": null,
   "metadata": {},
   "outputs": [],
   "source": [
    "# Resultados\n",
    "Resultados = X_entreno.copy()\n",
    "\n",
    "# ahora es posible realizar la predicción en nuestros datos\n",
    "Resultados['Probabilidad_Supervivencia']  = model.predict_proba(X_entreno)[:, 1]\n",
    "Resultados['Prediccion_supervivencia'] = y_pred_entreno_lr"
   ]
  },
  {
   "cell_type": "code",
   "execution_count": null,
   "metadata": {},
   "outputs": [],
   "source": [
    "Resultados.head()"
   ]
  },
  {
   "cell_type": "markdown",
   "metadata": {},
   "source": [
    "## **3.3. Selección Métrica de desempeño**\n",
    "\n",
    "En el contexto de la clasificación binaria, como el análisis del conjunto de datos del Titanic, es crucial evaluar cómo de bien está funcionando nuestro modelo al identificar las instancias correctas. En este ejercicio, estamos particularmente interesados en la métrica de **Recall**. Optimizar el **Recall** es importante porque queremos identificar el mayor número posible de pasajeros que sobrevivieron, lo cual es fundamental para evaluar cómo el modelo puede mejorar la identificación de sobrevivientes.\n",
    "\n",
    "\n",
    "<figure>\n",
    "<center>\n",
    "<img src='../Data/Images/metricas_desempeno.png' width=\"900\" height=\"450\" />\n",
    "<figcaption></figcaption></center>\n",
    "</figure>\n",
    "\n",
    "\n",
    "* **Recall (Sensibilidad):** ¿De todos los casos actuales, cuántos logra identificar mi algoritmo? De todos los pasajeros que realmente sobrevivieron, ¿cuántos logra identificar correctamente mi modelo?"
   ]
  },
  {
   "cell_type": "code",
   "execution_count": null,
   "metadata": {},
   "outputs": [],
   "source": [
    "# Comparando resultados en conjunto de Entrenamiento vs Prueba\n",
    "plot_confusion_matrix_and_reports(y_entreno, y_pred_entreno_lr, title = 'Matriz de Confusión - Entrenamiento')"
   ]
  },
  {
   "cell_type": "code",
   "execution_count": null,
   "metadata": {},
   "outputs": [],
   "source": [
    "# Comparando resultados en conjunto de Entrenamiento vs Prueba\n",
    "plot_confusion_matrix_and_reports(y_prueba, y_pred_prueba_lr, title = 'Matriz de Confusión - Prueba', cmap=plt.cm.Greens )"
   ]
  },
  {
   "cell_type": "markdown",
   "metadata": {},
   "source": [
    "## **3.4 Árboles de Decisión**\n",
    "\n",
    "<figure>\n",
    "<center>\n",
    "<img src='../Data/Images/arbol_decision_titanic.png' width=\"1200\" height=\"600\" />\n",
    "<figcaption></figcaption></center>\n",
    "</figure>\n",
    "\n",
    "Un **árbol de decisión** es un modelo de aprendizaje automático utilizado para tareas de clasificación y regresión. En problemas de clasificación binaria, se usa para predecir a qué una de dos clases pertenece una muestra. El algoritmo divide los datos en nodos basados en preguntas sobre características específicas, con nodos internos representando las pruebas y nodos de hoja mostrando las clasificaciones finales. Utiliza criterios como la **impureza de Gini** o la **entropía** para decidir cómo dividir los datos. Sus ventajas incluyen una alta **interpretabilidad** y la no necesidad de normalización de datos, pero puede sufrir de **sobreajuste** y sensibilidad a pequeñas variaciones. Es útil para clasificar datos en dos categorías de manera clara y comprensible.\n",
    "\n",
    "\n",
    "\n",
    "\n",
    "### **Entrenamiendo del Modelo**"
   ]
  },
  {
   "cell_type": "code",
   "execution_count": null,
   "metadata": {},
   "outputs": [],
   "source": [
    "# Entrenar el árbol de decisión con un límite de profundidad\n",
    "clf = DecisionTreeClassifier(max_depth=3, random_state=0)\n",
    "clf.fit(X_entreno, y_entreno)"
   ]
  },
  {
   "cell_type": "code",
   "execution_count": null,
   "metadata": {},
   "outputs": [],
   "source": [
    "# Predicciones\n",
    "y_pred_entreno_dt = clf.predict(X_entreno)\n",
    "y_pred_prueba_dt = clf.predict(X_prueba)"
   ]
  },
  {
   "cell_type": "code",
   "execution_count": null,
   "metadata": {},
   "outputs": [],
   "source": [
    "## Realice la validación de las predicciones para el árbol de decisión"
   ]
  },
  {
   "cell_type": "code",
   "execution_count": null,
   "metadata": {},
   "outputs": [],
   "source": [
    "# Configurar el tamaño de la figura\n",
    "plt.figure(figsize=(24, 6))\n",
    "plt.gcf().patch.set_facecolor('lightgrey')\n",
    "\n",
    "# Visualizar el árbol de decisión\n",
    "plot_tree(clf, \n",
    "          filled=True, \n",
    "          feature_names=X_entreno.columns, \n",
    "          class_names=['No Sobreviviente', 'Sobreviviente'], \n",
    "          rounded=True, \n",
    "          fontsize=10)  \n",
    "\n",
    "plt.title('Árbol de Decisión - TITANIC')\n",
    "plt.show()"
   ]
  },
  {
   "cell_type": "code",
   "execution_count": null,
   "metadata": {},
   "outputs": [],
   "source": [
    "# Comparando resultados en conjunto de Entrenamiento\n",
    "plot_confusion_matrix_and_reports(y_entreno, y_pred_entreno_dt, title = 'Matriz de Confusión - Entrenamiento')"
   ]
  },
  {
   "cell_type": "code",
   "execution_count": null,
   "metadata": {},
   "outputs": [],
   "source": [
    "# Comparando resultados en conjunto de Entrenamiento vs Prueba\n",
    "plot_confusion_matrix_and_reports(y_prueba, y_pred_prueba_dt, title = 'Matriz de Confusión - Prueba', cmap=plt.cm.Greens )"
   ]
  },
  {
   "cell_type": "markdown",
   "metadata": {},
   "source": [
    "## **3.5. Comparación Modelos**\n",
    "\n",
    "Ahora, vamos a contruir un dataframe unificado con las metricas que hemos calculado y guardado para cada modelo con el fin de poder comparar:"
   ]
  },
  {
   "cell_type": "code",
   "execution_count": null,
   "metadata": {},
   "outputs": [],
   "source": [
    "# Métricas para Regresión Logística\n",
    "metrics_lr = compute_metrics(y_prueba, y_pred_prueba_lr)\n",
    "\n",
    "# Métricas para Decision Tree\n",
    "metrics_dt = compute_metrics(y_prueba, y_pred_prueba_dt)"
   ]
  },
  {
   "cell_type": "code",
   "execution_count": null,
   "metadata": {},
   "outputs": [],
   "source": [
    "# Creación de un DataFrame unificado con las métricas de cada modelo construido\n",
    "models_summary = pd.DataFrame({\n",
    "    'Model': ['Logistic Regression',  'Decision Tree'],\n",
    "    'Accuracy Test': [metrics_lr['accuracy'][0], metrics_dt['accuracy'][0]],\n",
    "    'Precision Sobrevivientes': [metrics_lr['precision'][0], metrics_dt['precision'][0]],\n",
    "    'Recall Sobrevivientes': [metrics_lr['recall'][0], metrics_dt['recall'][0]]\n",
    "})\n",
    "\n",
    "# Ordenar el DataFrame por la columna de Recall\n",
    "models_summary.sort_values(by='Recall Sobrevivientes', ascending=False)"
   ]
  },
  {
   "cell_type": "markdown",
   "metadata": {},
   "source": [
    "### Conclusiones\n",
    "\n",
    "1. **Árbol de Decisión**: Este modelo muestra un **recall de 0.769** para los sobrevivientes, lo que indica que identifica correctamente el 76.9% de los sobrevivientes. Aunque su precisión (0.746) es inferior a la del clasificador de la regresión logística, su mayor valor de recall en comparación con la Regresión Logística sugiere que es menos probable que pase por alto a los sobrevivientes, lo cual es crucial en el contexto del Titanic.\n",
    "\n",
    "2. **Regresión Logística**: Aunque tiene una **precisión de 0.806** y un **recall de 0.754**, lo que es consistente en cuanto a identificar sobrevivientes, su **accuracy en el test (82.12%)** es menor que la del Árbol de Decisión y el Random Forest. Esto indica que, aunque el recall es igual al de la Regresión Logística, el modelo no es tan robusto en términos generales como los otros modelos.\n",
    "\n",
    "El modelo de **Árbol de Decisión** sigue siendo una opción sólida en este contexto, ya que maximiza el **recall** (0.769), asegurando que la mayor cantidad de sobrevivientes posibles sean identificados. Aunque el Random Forest tiene el mayor accuracy y precisión, el enfoque en el recall del Árbol de Decisión es crítico para minimizar el riesgo de pasar por alto a sobrevivientes.\n"
   ]
  },
  {
   "cell_type": "markdown",
   "metadata": {},
   "source": [
    "## **3.6. Calificación de una nueva base**\n"
   ]
  },
  {
   "cell_type": "markdown",
   "metadata": {},
   "source": [
    "\n",
    "<figure>\n",
    "<center>\n",
    "<img src='https://historysshadow.wordpress.com/wp-content/uploads/2014/09/arcona.jpg' width=\"600\" height=\"300\" />\n",
    "<figcaption></figcaption></center>\n",
    "</figure>\n",
    "\n"
   ]
  },
  {
   "cell_type": "code",
   "execution_count": null,
   "metadata": {},
   "outputs": [],
   "source": [
    "nuevos_datos = pd.read_csv('../Data/Inputs/nuevos_datos.csv')"
   ]
  },
  {
   "cell_type": "code",
   "execution_count": null,
   "metadata": {},
   "outputs": [],
   "source": [
    "print(nuevos_datos.shape)\n",
    "print(\"\")\n",
    "nuevos_datos.head()"
   ]
  },
  {
   "cell_type": "code",
   "execution_count": null,
   "metadata": {},
   "outputs": [],
   "source": [
    "#Crear un DataFrame con el resumen\n",
    "summary_df = pd.DataFrame({\n",
    "    'Valores Nulos': nuevos_datos.isnull().sum(),\n",
    "    'Valores Únicos': nuevos_datos.nunique(),\n",
    "    'Tipo de Dato': nuevos_datos.dtypes\n",
    "})\n",
    "\n",
    "# Mostrar la tabla\n",
    "print(summary_df)"
   ]
  },
  {
   "cell_type": "markdown",
   "metadata": {},
   "source": [
    "### **Preprocesamiento de datos**\n",
    "\n",
    "Para calificar la nueva base de datos de pasajeros del Titanic, es fundamental aplicar una serie de transformaciones que aseguren la coherencia y calidad de los datos, así como su compatibilidad con el modelo de predicción entrenado. A continuación, se describen las transformaciones necesarias:\n",
    "\n",
    "1. **Categoría Ordinal para 'Pclass'**: Convertimos la columna `Pclass` a una categoría ordinal para reflejar el orden natural de las clases (1, 2, 3), lo cual es importante para que el modelo interprete correctamente esta variable.\n",
    "\n",
    "2. **Imputación de Edad por Promedio de Clase y Género**: Aplicamos una función de imputación que rellena los valores faltantes de la columna `Age` utilizando la media de edad de cada combinación de clase y género, mejorando así la precisión de las predicciones al mantener patrones realistas de edad.\n",
    "\n",
    "3. **Manejo de Valores Faltantes en 'Fare'**: Filtramos los registros que contienen valores nulos en `Fare`, ya que esta variable es crucial para la predicción y no puede contener valores faltantes.\n",
    "\n",
    "4. **One-Hot Encoding para 'Embarked'**: Realizamos una codificación one-hot en la columna `Embarked` para convertirla en variables binarias, facilitando la interpretación de esta variable categórica por parte del modelo. Rellenamos los valores faltantes con la moda antes de aplicar la codificación.\n",
    "\n",
    "5. **Label Encoding para 'Sex'**: Codificamos la variable `Sex` usando un Label Encoder para transformar los valores categóricos en números, permitiendo que el modelo interprete la información de género.\n",
    "\n",
    "6. **Eliminación de Variables Irrelevantes**: Eliminamos columnas como `PassengerId`, `Name`, `Ticket`, `Cabin` y `Embarked` (ya codificada), ya que no son necesarias para el modelo y podrían introducir ruido en la predicción.\n",
    "\n",
    "7. **Tratamiento de outliers para variable Fare**: se utilizan métodos a partir de rangos intercuartilicos para transformación de outliers.\n",
    "\n",
    "Estas transformaciones son esenciales para preparar los datos de entrada de manera que sean consistentes con el conjunto de datos de entrenamiento del modelo, mejorando así la precisión y utilidad de las predicciones.\n"
   ]
  },
  {
   "cell_type": "code",
   "execution_count": null,
   "metadata": {},
   "outputs": [],
   "source": [
    "# variable categorica ordinal Pclass\n",
    "pclass_categories = [1, 2, 3]  # Define el orden de las clases\n",
    "nuevos_datos['Pclass'] = pd.Categorical(nuevos_datos['Pclass'], categories=pclass_categories, ordered=True) \n",
    "\n",
    "#imputación edad por promedio Clase y género\n",
    "nuevos_datos['Age'] = nuevos_datos.groupby(['Sex', 'Pclass'])['Age'].transform(lambda x: x.fillna(x.median()))\n",
    "\n",
    "# filtramos valores na para Fare\n",
    "nuevos_datos = nuevos_datos[nuevos_datos.Fare.notna()]\n",
    "\n",
    "# Define las variables categóricas que se codificarán con one-hot encoding\n",
    "categorical_vars = ['Sex', 'Embarked']\n",
    "tipo_binarias = 'int'\n",
    "nuevos_datos = pd.get_dummies(nuevos_datos, columns=categorical_vars, dtype=tipo_binarias)\n",
    "columnas_eliminar = ['Sex_female', 'Embarked_Q']\n",
    "nuevos_datos = nuevos_datos.drop(columns=columnas_eliminar)\n",
    "\n",
    "# Eliminamos variables no necesarias para la calificación de nuestro árbol de decisión\n",
    "nuevos_datos_00 = nuevos_datos.drop(columns=['PassengerId','Name','Ticket','Cabin']) "
   ]
  },
  {
   "cell_type": "code",
   "execution_count": null,
   "metadata": {},
   "outputs": [],
   "source": [
    "print(nuevos_datos_00.isnull().sum())"
   ]
  },
  {
   "cell_type": "code",
   "execution_count": null,
   "metadata": {},
   "outputs": [],
   "source": [
    "print(nuevos_datos_00.shape)\n",
    "print(\"\")\n",
    "nuevos_datos_00.head()"
   ]
  },
  {
   "cell_type": "markdown",
   "metadata": {},
   "source": [
    "### **Predicción de nuevos datos transformados**"
   ]
  },
  {
   "cell_type": "code",
   "execution_count": null,
   "metadata": {},
   "outputs": [],
   "source": [
    "# ahora es posible realizar la predicción en nuestros nuevos\n",
    "nuevos_datos['Probabilidad_Supervivencia']  = clf.predict_proba(nuevos_datos_00)[:, 1]\n",
    "nuevos_datos['Prediccion'] = clf.predict(nuevos_datos_00)\n",
    "                                         \n",
    "# Crear columna 'resultado' basada en la columna 'prediccion' usando np.where\n",
    "nuevos_datos['Prediccion_Str'] = np.where(nuevos_datos['Prediccion'] == 1, 'Sobrevive', 'No sobrevive')"
   ]
  },
  {
   "cell_type": "code",
   "execution_count": null,
   "metadata": {},
   "outputs": [],
   "source": [
    "nuevos_datos.head(20)"
   ]
  },
  {
   "cell_type": "markdown",
   "metadata": {},
   "source": [
    "### Análisis de Supervivencia de Pasajeros del Titanic\n",
    "\n",
    "Basado en los resultados de la predicción y las probabilidades de supervivencia para los pasajeros del Titanic, se pueden extraer las siguientes conclusiones relevantes:\n",
    "\n",
    "1. **Mujeres en Primera Clase:**\n",
    "   Las pasajeras femeninas en primera clase tienden a tener las probabilidades de supervivencia más altas. Por ejemplo, `Snyder, Mrs. John Pillsbury` y `Chaffee, Mrs. Herbert Fuller` tienen probabilidades de supervivencia del 96.15%. Este patrón refleja la priorización de mujeres y niños en los botes salvavidas, junto con las mejores condiciones de seguridad en primera clase.\n",
    "\n",
    "2. **Pasajeros de Clase Baja y de Sexo Masculino:**\n",
    "   Los hombres en tercera clase tienen las probabilidades de supervivencia más bajas. Por ejemplo, `Kelly, Mr. James` y `Wirz, Mr. Albert`, ambos en tercera clase, tienen probabilidades de supervivencia de 11.73% y 11.73%, respectivamente. Esto es consistente con la historia del Titanic, donde los hombres en tercera clase enfrentaron grandes dificultades para acceder a los botes salvavidas.\n",
    "\n",
    "3. **Efecto del Género y Clase en la Supervivencia:**\n",
    "   Generalmente, las mujeres tienen mayores probabilidades de sobrevivir en comparación con los hombres, incluso en tercera clase. Por ejemplo, `Hirvonen, Mrs. Alexander` (mujer, tercera clase) tiene una probabilidad de supervivencia del 57.84%, mientras que `Wirz, Mr. Albert` (hombre, tercera clase) tiene una probabilidad de 11.73%. Esto confirma que el género y la clase son factores determinantes importantes para la supervivencia.\n",
    "\n",
    "4. **Pasajeros con Familiares a Bordo:**\n",
    "   Algunos pasajeros con familiares a bordo, como `Wilkes, Mrs. James`, tienen una probabilidad de supervivencia del 57.84%. Esto sugiere que el hecho de tener familiares a bordo puede influir en las probabilidades de supervivencia, posiblemente facilitando el acceso a los botes salvavidas, aunque no siempre garantiza una alta probabilidad de supervivencia.\n",
    "\n",
    "5. **Pasajeros con Tarifa Baja:**\n",
    "   Los pasajeros con tarifas más bajas, como `Assaf Khalil, Mrs. Mariana` con una tarifa de 7.2250, tienen probabilidades de supervivencia del 57.84%. Esto indica que una tarifa baja no siempre se correlaciona directamente con una menor probabilidad de supervivencia, desafiando la percepción de que los pasajeros de tarifas más bajas tenían menos posibilidades de sobrevivir. Sin embargo, la relación sigue siendo un factor importante a considerar.\n",
    "\n",
    "Estas conclusiones refuerzan el conocimiento histórico y social sobre los factores que influyeron en las tasas de supervivencia del Titanic y subrayan la importancia de las características demográficas, como el género y la clase social, en la determinación de los resultados de supervivencia.\n"
   ]
  },
  {
   "cell_type": "markdown",
   "metadata": {},
   "source": [
    "\n",
    "<figure>\n",
    "<center>\n",
    "<img src='https://ichef.bbci.co.uk/ace/ws/800/cpsprodpb/48F4/production/_107767681_5-1.jpg.webp' width=\"800\" height=\"400\" />\n",
    "<figcaption></figcaption></center>\n",
    "</figure>\n"
   ]
  }
 ],
 "metadata": {
  "kernelspec": {
   "display_name": "legacy",
   "language": "python",
   "name": "python3"
  },
  "language_info": {
   "codemirror_mode": {
    "name": "ipython",
    "version": 3
   },
   "file_extension": ".py",
   "mimetype": "text/x-python",
   "name": "python",
   "nbconvert_exporter": "python",
   "pygments_lexer": "ipython3",
   "version": "3.12.1"
  }
 },
 "nbformat": 4,
 "nbformat_minor": 4
}
